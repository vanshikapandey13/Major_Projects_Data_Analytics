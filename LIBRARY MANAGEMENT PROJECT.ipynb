{
 "cells": [
  {
   "cell_type": "code",
   "execution_count": 3,
   "id": "d89f8831-7560-4325-b6ce-a5efdb90e063",
   "metadata": {},
   "outputs": [
    {
     "name": "stdout",
     "output_type": "stream",
     "text": [
      "Table created\n",
      "\n",
      "- Library Menu -\n",
      "1. Add Book\n",
      "2. Display Books\n",
      "3. Issue Book\n",
      "4. Return Book\n",
      "5. Exit\n"
     ]
    },
    {
     "name": "stdin",
     "output_type": "stream",
     "text": [
      "Enter your choice:  1\n",
      "Enter book title:  Treasure Island\n",
      "Enter author name:  Robert Louis Stevenson\n"
     ]
    },
    {
     "name": "stdout",
     "output_type": "stream",
     "text": [
      "Book 'Treasure Island' by Robert Louis Stevenson added.\n",
      "\n",
      "- Library Menu -\n",
      "1. Add Book\n",
      "2. Display Books\n",
      "3. Issue Book\n",
      "4. Return Book\n",
      "5. Exit\n"
     ]
    },
    {
     "name": "stdin",
     "output_type": "stream",
     "text": [
      "Enter your choice:  1\n",
      "Enter book title:  Little Women\n",
      "Enter author name:  Louisa May Alcott\n"
     ]
    },
    {
     "name": "stdout",
     "output_type": "stream",
     "text": [
      "Book 'Little Women' by Louisa May Alcott added.\n",
      "\n",
      "- Library Menu -\n",
      "1. Add Book\n",
      "2. Display Books\n",
      "3. Issue Book\n",
      "4. Return Book\n",
      "5. Exit\n"
     ]
    },
    {
     "name": "stdin",
     "output_type": "stream",
     "text": [
      "Enter your choice:  1\n",
      "Enter book title:  Harry Potter and the Sorcerer's Stone\n",
      "Enter author name:  J.K. Rowling\n"
     ]
    },
    {
     "name": "stdout",
     "output_type": "stream",
     "text": [
      "Book 'Harry Potter and the Sorcerer's Stone' by J.K. Rowling added.\n",
      "\n",
      "- Library Menu -\n",
      "1. Add Book\n",
      "2. Display Books\n",
      "3. Issue Book\n",
      "4. Return Book\n",
      "5. Exit\n"
     ]
    },
    {
     "name": "stdin",
     "output_type": "stream",
     "text": [
      "Enter your choice:  The Stranger\n"
     ]
    },
    {
     "name": "stdout",
     "output_type": "stream",
     "text": [
      "Invalid choice. Try again.\n",
      "\n",
      "- Library Menu -\n",
      "1. Add Book\n",
      "2. Display Books\n",
      "3. Issue Book\n",
      "4. Return Book\n",
      "5. Exit\n"
     ]
    },
    {
     "name": "stdin",
     "output_type": "stream",
     "text": [
      "Enter your choice:  1\n",
      "Enter book title:  The Stranger\n",
      "Enter author name:  Albert Camus\n"
     ]
    },
    {
     "name": "stdout",
     "output_type": "stream",
     "text": [
      "Book 'The Stranger' by Albert Camus added.\n",
      "\n",
      "- Library Menu -\n",
      "1. Add Book\n",
      "2. Display Books\n",
      "3. Issue Book\n",
      "4. Return Book\n",
      "5. Exit\n"
     ]
    },
    {
     "name": "stdin",
     "output_type": "stream",
     "text": [
      "Enter your choice:  2\n"
     ]
    },
    {
     "name": "stdout",
     "output_type": "stream",
     "text": [
      "\n",
      "Library Books:\n",
      "ID: 1 | Title: james bond | Author: jakx | Status: Issued\n",
      "ID: 2 | Title: robert frost | Author: robert | Status: Available\n",
      "ID: 3 | Title: my name | Author: vanshika | Status: Available\n",
      "ID: 4 | Title: vans | Author: bad | Status: Available\n",
      "ID: 5 | Title: jf | Author: sdfd | Status: Available\n",
      "ID: 6 | Title: jfdj | Author: djkfd | Status: Available\n",
      "ID: 7 | Title: djd | Author: jjfd | Status: Available\n",
      "ID: 8 | Title: Treasure Island | Author: Robert Louis Stevenson | Status: Available\n",
      "ID: 9 | Title: Little Women | Author: Louisa May Alcott | Status: Available\n",
      "ID: 10 | Title: Harry Potter and the Sorcerer's Stone | Author: J.K. Rowling | Status: Available\n",
      "ID: 11 | Title: The Stranger | Author: Albert Camus | Status: Available\n",
      "\n",
      "\n",
      "- Library Menu -\n",
      "1. Add Book\n",
      "2. Display Books\n",
      "3. Issue Book\n",
      "4. Return Book\n",
      "5. Exit\n"
     ]
    },
    {
     "name": "stdin",
     "output_type": "stream",
     "text": [
      "Enter your choice:  3\n",
      "Enter book ID to issue:  2\n"
     ]
    },
    {
     "name": "stdout",
     "output_type": "stream",
     "text": [
      "Book ID 2 has been issued.\n",
      "\n",
      "- Library Menu -\n",
      "1. Add Book\n",
      "2. Display Books\n",
      "3. Issue Book\n",
      "4. Return Book\n",
      "5. Exit\n"
     ]
    },
    {
     "name": "stdin",
     "output_type": "stream",
     "text": [
      "Enter your choice:  4\n",
      "Enter book ID to return:  10\n"
     ]
    },
    {
     "name": "stdout",
     "output_type": "stream",
     "text": [
      "Book is not currently issued or doesn't exist.\n",
      "\n",
      "- Library Menu -\n",
      "1. Add Book\n",
      "2. Display Books\n",
      "3. Issue Book\n",
      "4. Return Book\n",
      "5. Exit\n"
     ]
    },
    {
     "name": "stdin",
     "output_type": "stream",
     "text": [
      "Enter your choice:  5\n"
     ]
    },
    {
     "name": "stdout",
     "output_type": "stream",
     "text": [
      "Exiting...\n",
      "Database connection closed.\n"
     ]
    }
   ],
   "source": [
    "# import sqlite3\n",
    "\n",
    "conn = sqlite3.connect(\"library.db\")\n",
    "cursor = conn.cursor()\n",
    "\n",
    "\n",
    "cursor.execute('''\n",
    "CREATE TABLE IF NOT EXISTS books (id INTEGER PRIMARY KEY AUTOINCREMENT, title TEXT NOT NULL,author TEXT NOT NULL,status TEXT NOT NULL DEFAULT 'Available')\n",
    "''')\n",
    "conn.commit()\n",
    "print(\"Table created\")\n",
    "\n",
    "\n",
    "def add_book(title, author):\n",
    "    cursor.execute(\"INSERT INTO books (title, author) VALUES (?, ?)\", (title, author))\n",
    "    conn.commit()\n",
    "    print(f\"Book '{title}' by {author} added.\")\n",
    "\n",
    "\n",
    "def display_books():\n",
    "    cursor.execute(\"SELECT * FROM books\")\n",
    "    books = cursor.fetchall()\n",
    "    print(\"\\nLibrary Books:\")\n",
    "    for book in books:\n",
    "        print(f\"ID: {book[0]} | Title: {book[1]} | Author: {book[2]} | Status: {book[3]}\")\n",
    "    print(\"\")\n",
    "\n",
    "\n",
    "def issue_book(book_id):\n",
    "    cursor.execute(\"SELECT status FROM books WHERE id = ?\", (book_id,))\n",
    "    result = cursor.fetchone()\n",
    "    if result and result[0] == \"Available\":\n",
    "        cursor.execute(\"UPDATE books SET status = 'Issued' WHERE id = ?\", (book_id,))\n",
    "        conn.commit()\n",
    "        print(f\"Book ID {book_id} has been issued.\")\n",
    "    else:\n",
    "        print(\"Book not available or doesn't exist.\")\n",
    "\n",
    "\n",
    "def return_book(book_id):\n",
    "    cursor.execute(\"SELECT status FROM books WHERE id = ?\", (book_id,))\n",
    "    result = cursor.fetchone()\n",
    "    if result and result[0] == \"Issued\":\n",
    "        cursor.execute(\"UPDATE books SET status = 'Available' WHERE id = ?\", (book_id,))\n",
    "        conn.commit()\n",
    "        print(f\"Book ID {book_id} has been returned.\")\n",
    "    else:\n",
    "        print(\"Book is not currently issued or doesn't exist.\")\n",
    "\n",
    "\n",
    "def menu():\n",
    "    while True:\n",
    "        print(\"\\n- Library Menu -\")\n",
    "        print(\"1. Add Book\")\n",
    "        print(\"2. Display Books\")\n",
    "        print(\"3. Issue Book\")\n",
    "        print(\"4. Return Book\")\n",
    "        print(\"5. Exit\")\n",
    "\n",
    "        choice = input(\"Enter your choice: \")\n",
    "\n",
    "        if choice == '1':\n",
    "            title = input(\"Enter book title: \")\n",
    "            author = input(\"Enter author name: \")\n",
    "            add_book(title, author)\n",
    "        elif choice == '2':\n",
    "            display_books()\n",
    "        elif choice == '3':\n",
    "            book_id = int(input(\"Enter book ID to issue: \"))\n",
    "            issue_book(book_id)\n",
    "        elif choice == '4':\n",
    "            book_id = int(input(\"Enter book ID to return: \"))\n",
    "            return_book(book_id)\n",
    "        elif choice == '5':\n",
    "            print(\"Exiting...\")\n",
    "            break\n",
    "        else:\n",
    "            print(\"Invalid choice. Try again.\")\n",
    "\n",
    "\n",
    "try:\n",
    "    menu()\n",
    "finally:\n",
    "    conn.close()\n",
    "    print(\"Database connection closed.\")\n"
   ]
  },
  {
   "cell_type": "code",
   "execution_count": null,
   "id": "18496cdf-04df-446e-92f0-381e42badd1c",
   "metadata": {},
   "outputs": [],
   "source": []
  }
 ],
 "metadata": {
  "kernelspec": {
   "display_name": "Python [conda env:base] *",
   "language": "python",
   "name": "conda-base-py"
  },
  "language_info": {
   "codemirror_mode": {
    "name": "ipython",
    "version": 3
   },
   "file_extension": ".py",
   "mimetype": "text/x-python",
   "name": "python",
   "nbconvert_exporter": "python",
   "pygments_lexer": "ipython3",
   "version": "3.13.5"
  }
 },
 "nbformat": 4,
 "nbformat_minor": 5
}
