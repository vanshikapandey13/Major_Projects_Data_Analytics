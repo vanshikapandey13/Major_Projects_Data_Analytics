{
 "cells": [
  {
   "cell_type": "code",
   "execution_count": 1,
   "id": "598d0654-7382-4638-bd25-04ed71cbd19f",
   "metadata": {},
   "outputs": [],
   "source": [
    "import sqlite3\n",
    "\n",
    "conn = sqlite3.connect(\"billing.db\")\n",
    "cur = conn.cursor()\n",
    "\n",
    "# Product Table\n",
    "cur.execute('''\n",
    "CREATE TABLE IF NOT EXISTS products (\n",
    "    id INTEGER PRIMARY KEY AUTOINCREMENT,\n",
    "    name TEXT,\n",
    "    price REAL\n",
    ")\n",
    "''')\n",
    "\n",
    "# Cart Table\n",
    "cur.execute('''\n",
    "CREATE TABLE IF NOT EXISTS cart (\n",
    "    id INTEGER PRIMARY KEY AUTOINCREMENT,\n",
    "    product_id INTEGER,\n",
    "    quantity INTEGER\n",
    ")\n",
    "''')\n",
    "\n",
    "conn.commit()\n"
   ]
  },
  {
   "cell_type": "code",
   "execution_count": 2,
   "id": "77feeee9-88a4-446e-b610-d16f7f13750d",
   "metadata": {},
   "outputs": [
    {
     "name": "stdout",
     "output_type": "stream",
     "text": [
      "Product added successfully.\n",
      "Product added successfully.\n",
      "Product added successfully.\n",
      "Product added successfully.\n",
      "Product added successfully.\n",
      "Product added successfully.\n",
      "Product added successfully.\n",
      "Product added successfully.\n",
      "Product added successfully.\n",
      "Product added successfully.\n",
      "Product added successfully.\n",
      "Product added successfully.\n"
     ]
    }
   ],
   "source": [
    "def add_product(name, price):\n",
    "    cur.execute(\"INSERT INTO products (name, price) VALUES (?, ?)\", (name, price))\n",
    "    conn.commit()\n",
    "    print(\"Product added successfully.\")\n",
    "add_product(\"lipstick\",5000)\n",
    "add_product(\"maskara\",1000)\n",
    "add_product(\"nailpaint\",500)\n",
    "add_product(\"shoes\",1000)\n",
    "add_product(\"rice\",900.09)\n",
    "add_product(\"broom stick\",300)\n",
    "add_product(\"juice\",100)\n",
    "add_product(\"face mask\",200)\n",
    "add_product(\"sling bag\",600)\n",
    "add_product(\"patato\",50)\n",
    "add_product(\"tomato\",70)\n",
    "add_product(\"coconut water\",190)"
   ]
  },
  {
   "cell_type": "code",
   "execution_count": 3,
   "id": "6dd73d26-aade-4036-9138-e48f4c68fc96",
   "metadata": {},
   "outputs": [],
   "source": [
    "def show_products():\n",
    "    cur.execute(\"SELECT * FROM products\")\n",
    "    products = cur.fetchall()\n",
    "    print(\"\\n Available Products:\")\n",
    "    for p in products:\n",
    "        print(f\"ID: {p[0]} | Name: {p[1]} | Price: ₹{p[2]}\")"
   ]
  },
  {
   "cell_type": "code",
   "execution_count": 14,
   "id": "33121c96-3636-49ce-b0b8-5a7f4abf4e9c",
   "metadata": {},
   "outputs": [],
   "source": [
    "def purchase_product():\n",
    "\n",
    "    prod_id = int(input(\"Which product you want. Choose on basis of product ID:\"))\n",
    "    qty = input(\"Enter the quantity: \")\n",
    "    \n",
    "    cur.execute(\"INSERT INTO cart (product_id, quantity) VALUES (?, ?)\", (prod_id, qty))\n",
    "    conn.commit()\n",
    "    print(\" Added to cart!\")\n",
    "    a = input(\"Write 'add' for adding more or write 'done' for done:\")\n",
    "\n",
    "    if \"add\" in a.lower():\n",
    "        return purchase_product()\n",
    "\n",
    "    elif \"done\" in a.lower():\n",
    "        print(\"Processing Bill....\")\n",
    "\n",
    "    else:\n",
    "        print(\"Invalid choice.\")"
   ]
  },
  {
   "cell_type": "code",
   "execution_count": 15,
   "id": "6f083658-9e32-4f39-9151-182379b35e0a",
   "metadata": {},
   "outputs": [],
   "source": [
    "def show_bill():\n",
    "    cur.execute('''\n",
    "    SELECT products.name, products.price, cart.quantity, \n",
    "           (products.price * cart.quantity) as total \n",
    "    FROM cart \n",
    "    JOIN products ON products.id = cart.product_id\n",
    "    ''')\n",
    "    items = cur.fetchall()\n",
    "    grand_total = 0\n",
    "\n",
    "    print(\"\\n Final Bill:\")\n",
    "    for item in items:\n",
    "        name, price, qty, total = item\n",
    "        print(f\"{name} | ₹{price} x {qty} = ₹{total}\")\n",
    "        grand_total += total\n",
    "\n",
    "    print(f\"Grand Total: ₹{grand_total}\")"
   ]
  },
  {
   "cell_type": "code",
   "execution_count": 16,
   "id": "e65e5539-ddf2-4dad-8bb4-1f05c55ca986",
   "metadata": {},
   "outputs": [
    {
     "name": "stdout",
     "output_type": "stream",
     "text": [
      "\n",
      " Available Products:\n",
      "ID: 1 | Name: lipstick | Price: ₹5000.0\n",
      "ID: 2 | Name: maskara | Price: ₹1000.0\n",
      "ID: 3 | Name: nailpaint | Price: ₹500.0\n",
      "ID: 4 | Name: shoes | Price: ₹1000.0\n",
      "ID: 5 | Name: rice | Price: ₹900.09\n",
      "ID: 6 | Name: broom stick | Price: ₹300.0\n",
      "ID: 7 | Name: juice | Price: ₹100.0\n",
      "ID: 8 | Name: face mask | Price: ₹200.0\n",
      "ID: 9 | Name: sling bag | Price: ₹600.0\n",
      "ID: 10 | Name: patato | Price: ₹50.0\n",
      "ID: 11 | Name: tomato | Price: ₹70.0\n",
      "ID: 12 | Name: coconut water | Price: ₹190.0\n"
     ]
    }
   ],
   "source": [
    "show_products()"
   ]
  },
  {
   "cell_type": "code",
   "execution_count": 18,
   "id": "1c03c96b-431f-4296-b54b-f327e6c7a77d",
   "metadata": {},
   "outputs": [
    {
     "name": "stdout",
     "output_type": "stream",
     "text": [
      "\n",
      "------  VANSHIKA SUPERMART ------\n",
      "\n",
      "\n",
      " Available Products:\n",
      "ID: 1 | Name: lipstick | Price: ₹5000.0\n",
      "ID: 2 | Name: maskara | Price: ₹1000.0\n",
      "ID: 3 | Name: nailpaint | Price: ₹500.0\n",
      "ID: 4 | Name: shoes | Price: ₹1000.0\n",
      "ID: 5 | Name: rice | Price: ₹900.09\n",
      "ID: 6 | Name: broom stick | Price: ₹300.0\n",
      "ID: 7 | Name: juice | Price: ₹100.0\n",
      "ID: 8 | Name: face mask | Price: ₹200.0\n",
      "ID: 9 | Name: sling bag | Price: ₹600.0\n",
      "ID: 10 | Name: patato | Price: ₹50.0\n",
      "ID: 11 | Name: tomato | Price: ₹70.0\n",
      "ID: 12 | Name: coconut water | Price: ₹190.0\n"
     ]
    },
    {
     "name": "stdin",
     "output_type": "stream",
     "text": [
      "Which product you want. Choose on basis of product ID: 1\n",
      "Enter the quantity:  3\n"
     ]
    },
    {
     "name": "stdout",
     "output_type": "stream",
     "text": [
      " Added to cart!\n"
     ]
    },
    {
     "name": "stdin",
     "output_type": "stream",
     "text": [
      "Write 'add' for adding more or write 'done' for done: add\n",
      "Which product you want. Choose on basis of product ID: 11\n",
      "Enter the quantity:  2\n"
     ]
    },
    {
     "name": "stdout",
     "output_type": "stream",
     "text": [
      " Added to cart!\n"
     ]
    },
    {
     "name": "stdin",
     "output_type": "stream",
     "text": [
      "Write 'add' for adding more or write 'done' for done: done\n"
     ]
    },
    {
     "name": "stdout",
     "output_type": "stream",
     "text": [
      "Processing Bill....\n",
      "\n",
      " Final Bill:\n",
      "lipstick | ₹5000.0 x 2 = ₹10000.0\n",
      "lipstick | ₹5000.0 x 3 = ₹15000.0\n",
      "tomato | ₹70.0 x 2 = ₹140.0\n",
      "Grand Total: ₹25140.0\n"
     ]
    }
   ],
   "source": [
    "print(\"\\n------  VANSHIKA SUPERMART ------\\n\")\n",
    "show_products()\n",
    "purchase_product()\n",
    "show_bill()"
   ]
  },
  {
   "cell_type": "code",
   "execution_count": null,
   "id": "b3f22c53-d503-458b-9cbd-0176ed78b582",
   "metadata": {},
   "outputs": [],
   "source": []
  }
 ],
 "metadata": {
  "kernelspec": {
   "display_name": "Python [conda env:base] *",
   "language": "python",
   "name": "conda-base-py"
  },
  "language_info": {
   "codemirror_mode": {
    "name": "ipython",
    "version": 3
   },
   "file_extension": ".py",
   "mimetype": "text/x-python",
   "name": "python",
   "nbconvert_exporter": "python",
   "pygments_lexer": "ipython3",
   "version": "3.13.5"
  }
 },
 "nbformat": 4,
 "nbformat_minor": 5
}
